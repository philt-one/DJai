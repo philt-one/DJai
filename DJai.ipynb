{
 "cells": [
  {
   "cell_type": "markdown",
   "id": "1266f33b-d694-415c-b4a9-67153723e23a",
   "metadata": {},
   "source": [
    "# DJai"
   ]
  },
  {
   "cell_type": "markdown",
   "id": "f620a759-15c5-4d40-8fc1-0cbb91be5f96",
   "metadata": {},
   "source": [
    "### Import Packages"
   ]
  },
  {
   "cell_type": "code",
   "execution_count": 28,
   "id": "578ac95b-a832-48a6-872e-b38389d27cad",
   "metadata": {},
   "outputs": [],
   "source": [
    "import matplotlib.pyplot as plt\n",
    "import networkx as nx\n",
    "from closely_related_key import close_key"
   ]
  },
  {
   "cell_type": "markdown",
   "id": "f715a041-e1f2-4c38-b1fe-18a040e81b9b",
   "metadata": {},
   "source": [
    "### Initiate Graph"
   ]
  },
  {
   "cell_type": "code",
   "execution_count": 29,
   "id": "d4eb922a-e90d-44c3-ba0c-c897d04f777c",
   "metadata": {},
   "outputs": [],
   "source": [
    "G = nx.Graph()\n",
    "\n",
    "songs = [\n",
    "    { \"id\": 1, \"key\": \"C\", \"bpm\": 133 },\n",
    "    { \"id\": 2, \"key\": \"G\", \"bpm\": 136 },\n",
    "    { \"id\": 3,\"key\": \"D\", \"bpm\": 134 },\n",
    "    { \"id\": 4,\"key\": \"Em\", \"bpm\": 137 },\n",
    "    { \"id\": 5,\"key\": \"G\", \"bpm\": 133 } ]"
   ]
  },
  {
   "cell_type": "markdown",
   "id": "3be564b5-c468-4602-b8fc-7ce2e083029b",
   "metadata": {},
   "source": [
    "### Add edges"
   ]
  },
  {
   "cell_type": "code",
   "execution_count": 30,
   "id": "9c4c10d3-48b3-4150-b765-1f544bb9eff6",
   "metadata": {},
   "outputs": [],
   "source": [
    "for song in songs:\n",
    "    rel_key = close_key(song[\"key\"])\n",
    "    rel_songs = [d for d in songs if d['key'] in rel_key]\n",
    "    rel_songs.remove(song)\n",
    "    for e in rel_songs:\n",
    "        G.add_edge(song[\"id\"], e[\"id\"], weight=abs(song[\"bpm\"] - e[\"bpm\"]))"
   ]
  },
  {
   "cell_type": "markdown",
   "id": "89d50ba0-8304-48e2-844f-7d6a1f7ef039",
   "metadata": {},
   "source": [
    "### Plot graph"
   ]
  },
  {
   "cell_type": "code",
   "execution_count": 31,
   "id": "3b13d1ff-48a9-4e19-a3f2-fcf1817e5af9",
   "metadata": {},
   "outputs": [
    {
     "data": {
      "image/png": "[encoded data removed]",
      "text/plain": [
       "<Figure size 432x288 with 1 Axes>"
      ]
     },
     "metadata": {},
     "output_type": "display_data"
    }
   ],
   "source": [
    "e0 = [(u, v) for (u, v, d) in G.edges(data=True) if d[\"weight\"] <= 2]\n",
    "e1 = [(u, v) for (u, v, d) in G.edges(data=True) if d[\"weight\"] > 2]\n",
    "\n",
    "pos = nx.spring_layout(G, seed=7)  # positions for all nodes - seed for reproducibility\n",
    "\n",
    "# nodes\n",
    "nx.draw_networkx_nodes(G, pos, node_size=700)\n",
    "\n",
    "# edges\n",
    "nx.draw_networkx_edges(G, pos, edgelist=e0, width=7, edge_color=\"y\")\n",
    "nx.draw_networkx_edges(G, pos, edgelist=e1, width=5, edge_color=\"b\")\n",
    "\n",
    "# labels\n",
    "nx.draw_networkx_labels(G, pos, font_size=20, font_family=\"sans-serif\")\n",
    "\n",
    "ax = plt.gca()\n",
    "ax.margins(0.08)\n",
    "plt.axis(\"off\")\n",
    "plt.tight_layout()\n",
    "plt.show()"
   ]
  },
  {
   "cell_type": "code",
   "execution_count": null,
   "id": "9c92c37c-bad6-4f46-a66a-7bd990008fcb",
   "metadata": {},
   "outputs": [],
   "source": []
  }
 ],
 "metadata": {
  "kernelspec": {
   "display_name": "Python 3",
   "language": "python",
   "name": "python3"
  },
  "language_info": {
   "codemirror_mode": {
    "name": "ipython",
    "version": 3
   },
   "file_extension": ".py",
   "mimetype": "text/x-python",
   "name": "python",
   "nbconvert_exporter": "python",
   "pygments_lexer": "ipython3",
   "version": "3.9.7"
  }
 },
 "nbformat": 4,
 "nbformat_minor": 5
}
